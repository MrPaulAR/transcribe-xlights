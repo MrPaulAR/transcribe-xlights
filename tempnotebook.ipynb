{
 "cells": [
  {
   "cell_type": "code",
   "execution_count": 4,
   "metadata": {},
   "outputs": [],
   "source": [
    "import json\n",
    "import xml.etree.ElementTree as ET\n",
    "from pathlib import Path\n",
    "from pydantic import BaseModel, validator, Field\n",
    "\n",
    "datafile = Path(\"merry20210929154407.output.json\")\n",
    "\n",
    "# Read JSON file\n",
    "with open(datafile, \"r\") as f:\n",
    "    data = json.load(f)\n",
    "\n",
    "\n",
    "class Effect(BaseModel):\n",
    "    starttime: str = Field(alias=\"start_time\")\n",
    "    endtime: str = Field(alias=\"end_time\")\n",
    "    label: str = Field(alias=\"content\")\n",
    "\n",
    "    @validator(\"starttime\", \"endtime\", pre=True)\n",
    "    def check_time(cls, v):\n",
    "        return str(int(float(v) * 1000))\n",
    "\n",
    "\n",
    "class Effects(BaseModel):\n",
    "    effects: list[Effect]\n"
   ]
  },
  {
   "cell_type": "code",
   "execution_count": 6,
   "metadata": {},
   "outputs": [],
   "source": [
    "words = []\n",
    "for i in data[\"results\"][\"items\"]:\n",
    "    if i[\"type\"] != \"pronunciation\":\n",
    "        continue\n",
    "\n",
    "    if len(words) == 0:\n",
    "            this_word = Effect(\n",
    "                content=\"\",\n",
    "                start_time=0,\n",
    "                end_time=i[\"start_time\"],\n",
    "            )\n",
    "            words.append(this_word)\n",
    "    elif words[-1].endtime != i[\"start_time\"]:\n",
    "            this_word = Effect(\n",
    "                content=\"\",\n",
    "                start_time=int(words[-1].endtime) / 1000,\n",
    "                end_time=i[\"start_time\"],\n",
    "            )\n",
    "            words.append(this_word)\n",
    "\n",
    "\n",
    "    this_word = Effect(\n",
    "        content=i[\"alternatives\"][0][\"content\"],\n",
    "        start_time=i[\"start_time\"],\n",
    "        end_time=i[\"end_time\"],\n",
    "    )\n",
    "\n",
    "\n",
    "    # print(this_word)\n",
    "    # effect = Effect(**this_word)\n",
    "    words.append(this_word)"
   ]
  },
  {
   "cell_type": "code",
   "execution_count": 3,
   "metadata": {},
   "outputs": [
    {
     "data": {
      "text/plain": [
       "246"
      ]
     },
     "execution_count": 3,
     "metadata": {},
     "output_type": "execute_result"
    }
   ],
   "source": [
    "len(words)"
   ]
  },
  {
   "cell_type": "code",
   "execution_count": 4,
   "metadata": {},
   "outputs": [
    {
     "data": {
      "text/plain": [
       "Effect(starttime='0', endtime='240', content='')"
      ]
     },
     "execution_count": 4,
     "metadata": {},
     "output_type": "execute_result"
    }
   ],
   "source": [
    "words[0]"
   ]
  },
  {
   "cell_type": "code",
   "execution_count": 5,
   "metadata": {},
   "outputs": [
    {
     "data": {
      "text/plain": [
       "Effect(start_time='198800', end_time='198940', content='huh')"
      ]
     },
     "execution_count": 5,
     "metadata": {},
     "output_type": "execute_result"
    }
   ],
   "source": [
    "words[-1]"
   ]
  },
  {
   "cell_type": "code",
   "execution_count": 12,
   "metadata": {},
   "outputs": [],
   "source": [
    "effects = Effects(effects=words)"
   ]
  },
  {
   "cell_type": "markdown",
   "metadata": {},
   "source": [
    "<?xml version=\"1.0\" encoding=\"UTF-8\"?>\n",
    "<timings>\n",
    "    <timing name=\"New Timing\" SourceVersion=\"2018.4\">\n",
    "        <EffectLayer>\n",
    "            <Effect label=\"It\\'s\" startTime=\"240\" endTime=\"12270\" />"
   ]
  },
  {
   "cell_type": "code",
   "execution_count": 7,
   "metadata": {},
   "outputs": [],
   "source": [
    "root = ET.Element(\"timings\")\n",
    "timing = ET.SubElement(root, \"timing\", attrib={\"name\": \"New Timing\", \"SourceVersion\": \"2018.4\"})\n",
    "effectlayer = ET.SubElement(timing, \"EffectLayer\")\n",
    "for word in words:\n",
    "    ET.SubElement(effectlayer, \"Effect\", attrib=word.dict())"
   ]
  },
  {
   "cell_type": "code",
   "execution_count": 9,
   "metadata": {},
   "outputs": [
    {
     "name": "stdout",
     "output_type": "stream",
     "text": [
      "<timings><timing name=\"New Timing\" SourceVersion=\"2018.4\"><EffectLayer><Effect starttime=\"0\" endtime=\"240\" label=\"\" /><Effect starttime=\"240\" endtime=\"12270\" label=\"It's\" /><Effect starttime=\"12270\" endtime=\"12270\" label=\"\" /><Effect starttime=\"12270\" endtime=\"12400\" label=\"the\" /><Effect starttime=\"12400\" endtime=\"12410\" label=\"\" /><Effect starttime=\"12410\" endtime=\"12910\" label=\"guts\" /><Effect starttime=\"12910\" endtime=\"12910\" label=\"\" /><Effect starttime=\"12910\" endtime=\"13160\" label=\"and\" /><Effect starttime=\"13160\" endtime=\"13160\" label=\"\" /><Effect starttime=\"13160\" endtime=\"13390\" label=\"it's\" /><Effect starttime=\"13390\" endtime=\"13390\" label=\"\" /><Effect starttime=\"13390\" endtime=\"13560\" label=\"the\" /><Effect starttime=\"13560\" endtime=\"13560\" label=\"\" /><Effect starttime=\"13560\" endtime=\"14400\" label=\"glory\" /><Effect starttime=\"14400\" endtime=\"14930\" label=\"\" /><Effect starttime=\"14930\" endtime=\"15450\" label=\"100\" /><Effect starttime=\"15450\" endtime=\"15450\" label=\"\" /><Effect starttime=\"15450\" endtime=\"15980\" label=\"stripes\" /><Effect starttime=\"15980\" endtime=\"16290\" label=\"\" /><Effect starttime=\"16290\" endtime=\"16630\" label=\"100\" /><Effect starttime=\"16630\" endtime=\"16630\" label=\"\" /><Effect starttime=\"16630\" endtime=\"17700\" label=\"stories\" /><Effect starttime=\"17700\" endtime=\"17710\" label=\"\" /><Effect starttime=\"17710\" endtime=\"19200\" label=\"It's\" /><Effect starttime=\"19200\" endtime=\"19200\" label=\"\" /><Effect starttime=\"19200\" endtime=\"19320\" label=\"the\" /><Effect starttime=\"19320\" endtime=\"19320\" label=\"\" /><Effect starttime=\"19320\" endtime=\"19840\" label=\"pledge\" /><Effect starttime=\"19840\" endtime=\"19840\" label=\"\" /><Effect starttime=\"19840\" endtime=\"20040\" label=\"of\" /><Effect starttime=\"20040\" endtime=\"20040\" label=\"\" /><Effect starttime=\"20040\" endtime=\"20600\" label=\"allegiance\" /><Effect starttime=\"20600\" endtime=\"20600\" label=\"\" /><Effect starttime=\"20600\" endtime=\"20760\" label=\"on\" /><Effect starttime=\"20760\" endtime=\"20760\" label=\"\" /><Effect starttime=\"20760\" endtime=\"20880\" label=\"the\" /><Effect starttime=\"20880\" endtime=\"20880\" label=\"\" /><Effect starttime=\"20880\" endtime=\"21210\" label=\"fourth\" /><Effect starttime=\"21210\" endtime=\"21210\" label=\"\" /><Effect starttime=\"21210\" endtime=\"21320\" label=\"of\" /><Effect starttime=\"21320\" endtime=\"21320\" label=\"\" /><Effect starttime=\"21320\" endtime=\"22640\" label=\"july\" /><Effect starttime=\"22640\" endtime=\"22650\" label=\"\" /><Effect starttime=\"22650\" endtime=\"24530\" label=\"it's\" /><Effect starttime=\"24530\" endtime=\"24530\" label=\"\" /><Effect starttime=\"24530\" endtime=\"24740\" label=\"some\" /><Effect starttime=\"24740\" endtime=\"24740\" label=\"\" /><Effect starttime=\"24740\" endtime=\"25510\" label=\"handwritten\" /><Effect starttime=\"25510\" endtime=\"25510\" label=\"\" /><Effect starttime=\"25510\" endtime=\"25910\" label=\"letters\" /><Effect starttime=\"25910\" endtime=\"25910\" label=\"\" /><Effect starttime=\"25910\" endtime=\"26090\" label=\"from\" /><Effect starttime=\"26090\" endtime=\"26090\" label=\"\" /><Effect starttime=\"26090\" endtime=\"26880\" label=\"home\" /><Effect starttime=\"26880\" endtime=\"26890\" label=\"\" /><Effect starttime=\"26890\" endtime=\"27640\" label=\"It's\" /><Effect starttime=\"27640\" endtime=\"27640\" label=\"\" /><Effect starttime=\"27640\" endtime=\"27790\" label=\"some\" /><Effect starttime=\"27790\" endtime=\"27790\" label=\"\" /><Effect starttime=\"27790\" endtime=\"28600\" label=\"sleepless\" /><Effect starttime=\"28600\" endtime=\"28600\" label=\"\" /><Effect starttime=\"28600\" endtime=\"29060\" label=\"nights\" /><Effect starttime=\"29060\" endtime=\"29060\" label=\"\" /><Effect starttime=\"29060\" endtime=\"29820\" label=\"alone\" /><Effect starttime=\"29820\" endtime=\"29830\" label=\"\" /><Effect starttime=\"29830\" endtime=\"31540\" label=\"It's\" /><Effect starttime=\"31540\" endtime=\"31540\" label=\"\" /><Effect starttime=\"31540\" endtime=\"31710\" label=\"his\" /><Effect starttime=\"31710\" endtime=\"31710\" label=\"\" /><Effect starttime=\"31710\" endtime=\"32460\" label=\"newborn\" /><Effect starttime=\"32460\" endtime=\"32460\" label=\"\" /><Effect starttime=\"32460\" endtime=\"32830\" label=\"baby\" /><Effect starttime=\"32830\" endtime=\"32830\" label=\"\" /><Effect starttime=\"32830\" endtime=\"33020\" label=\"He\" /><Effect starttime=\"33020\" endtime=\"33020\" label=\"\" /><Effect starttime=\"33020\" endtime=\"33300\" label=\"left\" /><Effect starttime=\"33300\" endtime=\"33300\" label=\"\" /><Effect starttime=\"33300\" endtime=\"33650\" label=\"with\" /><Effect starttime=\"33650\" endtime=\"33650\" label=\"\" /><Effect starttime=\"33650\" endtime=\"33800\" label=\"his\" /><Effect starttime=\"33800\" endtime=\"33800\" label=\"\" /><Effect starttime=\"33800\" endtime=\"35250\" label=\"wife\" /><Effect starttime=\"35250\" endtime=\"35260\" label=\"\" /><Effect starttime=\"35260\" endtime=\"35950\" label=\"Mr\" /><Effect starttime=\"35950\" endtime=\"35950\" label=\"\" /><Effect starttime=\"35950\" endtime=\"36290\" label=\"red\" /><Effect starttime=\"36290\" endtime=\"36290\" label=\"\" /><Effect starttime=\"36290\" endtime=\"36780\" label=\"white\" /><Effect starttime=\"36780\" endtime=\"36780\" label=\"\" /><Effect starttime=\"36780\" endtime=\"36890\" label=\"and\" /><Effect starttime=\"36890\" endtime=\"36890\" label=\"\" /><Effect starttime=\"36890\" endtime=\"37520\" label=\"blue\" /><Effect starttime=\"37520\" endtime=\"37530\" label=\"\" /><Effect starttime=\"37530\" endtime=\"38250\" label=\"Lay\" /><Effect starttime=\"38250\" endtime=\"38250\" label=\"\" /><Effect starttime=\"38250\" endtime=\"38960\" label=\"down\" /><Effect starttime=\"38960\" endtime=\"38960\" label=\"\" /><Effect starttime=\"38960\" endtime=\"39640\" label=\"Here's\" /><Effect starttime=\"39640\" endtime=\"39640\" label=\"\" /><Effect starttime=\"39640\" endtime=\"39760\" label=\"a\" /><Effect starttime=\"39760\" endtime=\"39760\" label=\"\" /><Effect starttime=\"39760\" endtime=\"40710\" label=\"line\" /><Effect starttime=\"40710\" endtime=\"41540\" label=\"\" /><Effect starttime=\"41540\" endtime=\"42190\" label=\"mr\" /><Effect starttime=\"42190\" endtime=\"42420\" label=\"\" /><Effect starttime=\"42420\" endtime=\"42900\" label=\"white\" /><Effect starttime=\"42900\" endtime=\"42900\" label=\"\" /><Effect starttime=\"42900\" endtime=\"43010\" label=\"and\" /><Effect starttime=\"43010\" endtime=\"43010\" label=\"\" /><Effect starttime=\"43010\" endtime=\"43580\" label=\"blue\" /><Effect starttime=\"43580\" endtime=\"43590\" label=\"\" /><Effect starttime=\"43590\" endtime=\"45130\" label=\"for\" /><Effect starttime=\"45130\" endtime=\"45130\" label=\"\" /><Effect starttime=\"45130\" endtime=\"45470\" label=\"these\" /><Effect starttime=\"45470\" endtime=\"45470\" label=\"\" /><Effect starttime=\"45470\" endtime=\"45960\" label=\"stars\" /><Effect starttime=\"45960\" endtime=\"45960\" label=\"\" /><Effect starttime=\"45960\" endtime=\"46080\" label=\"and\" /><Effect starttime=\"46080\" endtime=\"46080\" label=\"\" /><Effect starttime=\"46080\" endtime=\"47870\" label=\"stri\" /><Effect starttime=\"47870\" endtime=\"47870\" label=\"\" /><Effect starttime=\"47870\" endtime=\"48130\" label=\"I\" /><Effect starttime=\"48130\" endtime=\"48380\" label=\"\" /><Effect starttime=\"48380\" endtime=\"50170\" label=\"hey\" /><Effect starttime=\"50170\" endtime=\"50180\" label=\"\" /><Effect starttime=\"50180\" endtime=\"55330\" label=\"from\" /><Effect starttime=\"55330\" endtime=\"55330\" label=\"\" /><Effect starttime=\"55330\" endtime=\"55440\" label=\"the\" /><Effect starttime=\"55440\" endtime=\"55450\" label=\"\" /><Effect starttime=\"55450\" endtime=\"56010\" label=\"fields\" /><Effect starttime=\"56010\" endtime=\"56010\" label=\"\" /><Effect starttime=\"56010\" endtime=\"56210\" label=\"of\" /><Effect starttime=\"56210\" endtime=\"56210\" label=\"\" /><Effect starttime=\"56210\" endtime=\"57800\" label=\"indiana\" /><Effect starttime=\"57800\" endtime=\"57820\" label=\"\" /><Effect starttime=\"57820\" endtime=\"58380\" label=\"to\" /><Effect starttime=\"58380\" endtime=\"58380\" label=\"\" /><Effect starttime=\"58380\" endtime=\"58510\" label=\"the\" /><Effect starttime=\"58510\" endtime=\"58510\" label=\"\" /><Effect starttime=\"58510\" endtime=\"59060\" label=\"swamps\" /><Effect starttime=\"59060\" endtime=\"59060\" label=\"\" /><Effect starttime=\"59060\" endtime=\"59350\" label=\"of\" /><Effect starttime=\"59350\" endtime=\"59350\" label=\"\" /><Effect starttime=\"59350\" endtime=\"60720\" label=\"Louisiana\" /><Effect starttime=\"60720\" endtime=\"61940\" label=\"\" /><Effect starttime=\"61940\" endtime=\"62280\" label=\"to\" /><Effect starttime=\"62280\" endtime=\"62280\" label=\"\" /><Effect starttime=\"62280\" endtime=\"62460\" label=\"the\" /><Effect starttime=\"62460\" endtime=\"62470\" label=\"\" /><Effect starttime=\"62470\" endtime=\"63200\" label=\"golden\" /><Effect starttime=\"63200\" endtime=\"63200\" label=\"\" /><Effect starttime=\"63200\" endtime=\"63720\" label=\"coast\" /><Effect starttime=\"63720\" endtime=\"63720\" label=\"\" /><Effect starttime=\"63720\" endtime=\"63940\" label=\"of\" /><Effect starttime=\"63940\" endtime=\"63950\" label=\"\" /><Effect starttime=\"63950\" endtime=\"65650\" label=\"California\" /><Effect starttime=\"65650\" endtime=\"67170\" label=\"\" /><Effect starttime=\"67170\" endtime=\"67810\" label=\"Uncle\" /><Effect starttime=\"67810\" endtime=\"67810\" label=\"\" /><Effect starttime=\"67810\" endtime=\"68130\" label=\"sends\" /><Effect starttime=\"68130\" endtime=\"68130\" label=\"\" /><Effect starttime=\"68130\" endtime=\"68310\" label=\"the\" /><Effect starttime=\"68310\" endtime=\"68310\" label=\"\" /><Effect starttime=\"68310\" endtime=\"68580\" label=\"only\" /><Effect starttime=\"68580\" endtime=\"68590\" label=\"\" /><Effect starttime=\"68590\" endtime=\"68980\" label=\"family\" /><Effect starttime=\"68980\" endtime=\"68980\" label=\"\" /><Effect starttime=\"68980\" endtime=\"69640\" label=\"he's\" /><Effect starttime=\"69640\" endtime=\"69640\" label=\"\" /><Effect starttime=\"69640\" endtime=\"70140\" label=\"got\" /><Effect starttime=\"70140\" endtime=\"70150\" label=\"\" /><Effect starttime=\"70150\" endtime=\"70860\" label=\"his\" /><Effect starttime=\"70860\" endtime=\"70860\" label=\"\" /><Effect starttime=\"70860\" endtime=\"71310\" label=\"purple\" /><Effect starttime=\"71310\" endtime=\"71310\" label=\"\" /><Effect starttime=\"71310\" endtime=\"71690\" label=\"heart\" /><Effect starttime=\"71690\" endtime=\"71700\" label=\"\" /><Effect starttime=\"71700\" endtime=\"71970\" label=\"beat\" /><Effect starttime=\"71970\" endtime=\"71970\" label=\"\" /><Effect starttime=\"71970\" endtime=\"72610\" label=\"won't\" /><Effect starttime=\"72610\" endtime=\"72610\" label=\"\" /><Effect starttime=\"72610\" endtime=\"73660\" label=\"stop\" /><Effect starttime=\"73660\" endtime=\"117190\" label=\"\" /><Effect starttime=\"117190\" endtime=\"117480\" label=\"He\" /><Effect starttime=\"117480\" endtime=\"117490\" label=\"\" /><Effect starttime=\"117490\" endtime=\"117690\" label=\"was\" /><Effect starttime=\"117690\" endtime=\"117700\" label=\"\" /><Effect starttime=\"117700\" endtime=\"117800\" label=\"the\" /><Effect starttime=\"117800\" endtime=\"117810\" label=\"\" /><Effect starttime=\"117810\" endtime=\"118300\" label=\"man\" /><Effect starttime=\"118300\" endtime=\"118300\" label=\"\" /><Effect starttime=\"118300\" endtime=\"118450\" label=\"of\" /><Effect starttime=\"118450\" endtime=\"118450\" label=\"\" /><Effect starttime=\"118450\" endtime=\"118570\" label=\"the\" /><Effect starttime=\"118570\" endtime=\"118580\" label=\"\" /><Effect starttime=\"118580\" endtime=\"118870\" label=\"house\" /><Effect starttime=\"118870\" endtime=\"118870\" label=\"\" /><Effect starttime=\"118870\" endtime=\"119000\" label=\"when\" /><Effect starttime=\"119000\" endtime=\"119000\" label=\"\" /><Effect starttime=\"119000\" endtime=\"119150\" label=\"he\" /><Effect starttime=\"119150\" endtime=\"119150\" label=\"\" /><Effect starttime=\"119150\" endtime=\"119360\" label=\"was\" /><Effect starttime=\"119360\" endtime=\"119370\" label=\"\" /><Effect starttime=\"119370\" endtime=\"120150\" label=\"born\" /><Effect starttime=\"120150\" endtime=\"120160\" label=\"\" /><Effect starttime=\"120160\" endtime=\"120910\" label=\"His\" /><Effect starttime=\"120910\" endtime=\"120920\" label=\"\" /><Effect starttime=\"120920\" endtime=\"121480\" label=\"family\" /><Effect starttime=\"121480\" endtime=\"121480\" label=\"\" /><Effect starttime=\"121480\" endtime=\"121630\" label=\"is\" /><Effect starttime=\"121630\" endtime=\"121640\" label=\"\" /><Effect starttime=\"121640\" endtime=\"122100\" label=\"proud\" /><Effect starttime=\"122100\" endtime=\"122100\" label=\"\" /><Effect starttime=\"122100\" endtime=\"122420\" label=\"But\" /><Effect starttime=\"122420\" endtime=\"123640\" label=\"\" /><Effect starttime=\"123640\" endtime=\"124030\" label=\"but\" /><Effect starttime=\"124030\" endtime=\"124030\" label=\"\" /><Effect starttime=\"124030\" endtime=\"124230\" label=\"if\" /><Effect starttime=\"124230\" endtime=\"124230\" label=\"\" /><Effect starttime=\"124230\" endtime=\"124380\" label=\"you\" /><Effect starttime=\"124380\" endtime=\"124380\" label=\"\" /><Effect starttime=\"124380\" endtime=\"124750\" label=\"knew\" /><Effect starttime=\"124750\" endtime=\"124750\" label=\"\" /><Effect starttime=\"124750\" endtime=\"125160\" label=\"him\" /><Effect starttime=\"125160\" endtime=\"125160\" label=\"\" /><Effect starttime=\"125160\" endtime=\"125350\" label=\"you\" /><Effect starttime=\"125350\" endtime=\"125350\" label=\"\" /><Effect starttime=\"125350\" endtime=\"125600\" label=\"would\" /><Effect starttime=\"125600\" endtime=\"125600\" label=\"\" /><Effect starttime=\"125600\" endtime=\"126960\" label=\"understand\" /><Effect starttime=\"126960\" endtime=\"156140\" label=\"\" /><Effect starttime=\"156140\" endtime=\"156590\" label=\"this\" /><Effect starttime=\"156590\" endtime=\"156590\" label=\"\" /><Effect starttime=\"156590\" endtime=\"156970\" label=\"Run\" /><Effect starttime=\"156970\" endtime=\"179820\" label=\"\" /><Effect starttime=\"179820\" endtime=\"181080\" label=\"marching\" /><Effect starttime=\"181080\" endtime=\"182700\" label=\"\" /><Effect starttime=\"182700\" endtime=\"184120\" label=\"marching\" /><Effect starttime=\"184120\" endtime=\"187140\" label=\"\" /><Effect starttime=\"187140\" endtime=\"188250\" label=\"hurt\" /><Effect starttime=\"188250\" endtime=\"197660\" label=\"\" /><Effect starttime=\"197660\" endtime=\"198140\" label=\"Yeah\" /><Effect starttime=\"198140\" endtime=\"198740\" label=\"\" /><Effect starttime=\"198740\" endtime=\"198800\" label=\"Uh\" /><Effect starttime=\"198800\" endtime=\"198800\" label=\"\" /><Effect starttime=\"198800\" endtime=\"198940\" label=\"huh\" /></EffectLayer></timing></timings>\n"
     ]
    }
   ],
   "source": [
    "ET.dump(root)"
   ]
  }
 ],
 "metadata": {
  "interpreter": {
   "hash": "05a86eb8a2d061d5d005287ee932a2651f8ac7c4f4353c2deddb2bfd0c7be8ec"
  },
  "kernelspec": {
   "display_name": "Python 3.9.7 64-bit ('transcribe-xlights-sBQthgmo': pipenv)",
   "name": "python3"
  },
  "language_info": {
   "codemirror_mode": {
    "name": "ipython",
    "version": 3
   },
   "file_extension": ".py",
   "mimetype": "text/x-python",
   "name": "python",
   "nbconvert_exporter": "python",
   "pygments_lexer": "ipython3",
   "version": "3.9.7"
  },
  "orig_nbformat": 4
 },
 "nbformat": 4,
 "nbformat_minor": 2
}
